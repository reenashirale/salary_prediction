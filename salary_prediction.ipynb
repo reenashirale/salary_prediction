{
 "cells": [
  {
   "cell_type": "code",
   "execution_count": null,
   "metadata": {},
   "outputs": [],
   "source": [
    "# Outliers Explained:\n",
    "# 3000000 for \"Senior Data Scientist\" is unusually high for most markets in India.\n",
    "# 400000 for \"Junior Data Scientist\" is on the low end for entry-level positions.\n",
    "# 250000 for \"Machine Learning Intern\" is significantly lower than typical intern salaries.\n",
    "# 2000000 for \"Senior Data Engineer\" is also considerably high for the role."
   ]
  },
  {
   "cell_type": "code",
   "execution_count": null,
   "metadata": {},
   "outputs": [],
   "source": [
    "import pandas as pd\n",
    "import numpy as np\n"
   ]
  },
  {
   "cell_type": "markdown",
   "metadata": {},
   "source": [
    "### Problem Statement\n",
    "\n",
    "Title: Salary Prediction for Data Science Roles in India\n",
    "\n",
    "Objective:\n",
    "The objective of this project is to develop a predictive model to estimate the salaries of data science professionals in India based on key factors such as job title, years of experience, education level, skills, and location."
   ]
  }
 ],
 "metadata": {
  "language_info": {
   "name": "python"
  }
 },
 "nbformat": 4,
 "nbformat_minor": 2
}
